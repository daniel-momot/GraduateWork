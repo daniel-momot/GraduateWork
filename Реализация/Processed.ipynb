{
 "cells": [
  {
   "cell_type": "code",
   "execution_count": 59,
   "metadata": {},
   "outputs": [],
   "source": [
    "import matplotlib.pyplot as plt\n",
    "import numpy\n",
    "\n",
    "Alg1 = list()\n",
    "Alg2 = list()\n",
    "MyAlg = list()\n",
    "\n",
    "x = [ 10, 12, 14, 16, 18, 20, 22, 24, 26, 28, 30, ]\n",
    "\n",
    "Alg1.append( (0.000818, 0.000980, 0.001147, 0.001311, 0.001476, 0.001612, 0.001793, 0.001948, 0.002098, 0.002352, 0.002458, ) )\n",
    "Alg1.append( (0.000819, 0.000982, 0.001153, 0.001310, 0.001471, 0.001631, 0.001800, 0.001968, 0.002124, 0.002289, 0.002441, ) )\n",
    "Alg1.append( (0.000800, 0.000972, 0.001136, 0.001318, 0.001469, 0.001631, 0.001802, 0.001959, 0.002120, 0.002289, 0.002440, ) )\n",
    "Alg1.append( (0.000814, 0.000984, 0.001142, 0.001304, 0.001451, 0.001641, 0.001794, 0.001958, 0.002112, 0.002250, 0.002445, ) )\n",
    "Alg1.append( (0.000809, 0.000982, 0.001143, 0.001312, 0.001446, 0.001635, 0.001792, 0.001961, 0.002137, 0.002288, 0.002434, ) )\n",
    "Alg1.append( (0.000807, 0.000979, 0.001144, 0.001303, 0.001471, 0.001629, 0.001788, 0.002015, 0.002133, 0.002287, 0.002453, ) )\n",
    "Alg1.append( (0.000820, 0.000980, 0.001141, 0.001306, 0.001470, 0.001638, 0.001792, 0.001970, 0.002129, 0.002321, 0.002433, ) )\n",
    "Alg1.append( (0.000822, 0.000983, 0.001149, 0.001315, 0.001471, 0.001627, 0.001788, 0.001936, 0.002132, 0.002262, 0.002445, ) )\n",
    "Alg1.append( (0.000818, 0.000967, 0.001145, 0.001306, 0.001452, 0.001624, 0.001791, 0.001978, 0.002094, 0.002297, 0.002440, ) )\n",
    "Alg1.append( (0.000803, 0.000979, 0.001137, 0.001293, 0.001469, 0.001617, 0.001784, 0.001929, 0.002124, 0.002285, 0.002441, ) )\n",
    "\n",
    "Alg2.append( (0.000578, 0.000694, 0.000806, 0.000919, 0.001038, 0.001182, 0.001265, 0.001380, 0.001493, 0.001650, 0.001729, ) )\n",
    "Alg2.append( (0.000576, 0.000691, 0.000805, 0.000920, 0.001042, 0.001158, 0.001265, 0.001379, 0.001494, 0.001608, 0.001723, ) )\n",
    "Alg2.append( (0.000578, 0.000690, 0.000806, 0.000922, 0.001036, 0.001152, 0.001266, 0.001386, 0.001501, 0.001609, 0.001723, ) )\n",
    "Alg2.append( (0.000578, 0.000692, 0.000805, 0.000921, 0.001036, 0.001151, 0.001267, 0.001386, 0.001498, 0.001616, 0.001724, ) )\n",
    "Alg2.append( (0.000575, 0.000690, 0.000805, 0.000921, 0.001034, 0.001149, 0.001264, 0.001378, 0.001493, 0.001613, 0.001727, ) )\n",
    "Alg2.append( (0.000576, 0.000691, 0.000806, 0.000921, 0.001036, 0.001150, 0.001270, 0.001389, 0.001542, 0.001609, 0.001724, ) )\n",
    "Alg2.append( (0.000576, 0.000691, 0.000804, 0.000926, 0.001036, 0.001151, 0.001265, 0.001380, 0.001495, 0.001570, 0.001737, ) )\n",
    "Alg2.append( (0.000577, 0.000691, 0.000806, 0.000927, 0.001036, 0.001149, 0.001265, 0.001381, 0.001495, 0.001644, 0.001725, ) )\n",
    "Alg2.append( (0.000575, 0.000689, 0.000806, 0.000921, 0.001034, 0.001149, 0.001263, 0.001377, 0.001494, 0.001608, 0.001723, ) )\n",
    "Alg2.append( (0.000580, 0.000690, 0.000807, 0.000921, 0.001035, 0.001149, 0.001264, 0.001379, 0.001493, 0.001608, 0.001730, ) )\n",
    "\n",
    "MyAlg.append( (0.098354, 0.117622, 0.137781, 0.156696, 0.176420, 0.196162, 0.215738, 0.235416, 0.258316, 0.275666, 0.294419, ) )\n",
    "MyAlg.append( (0.098085, 0.118103, 0.137217, 0.156875, 0.176388, 0.196010, 0.215875, 0.235729, 0.255860, 0.274476, 0.294210, ) )\n",
    "MyAlg.append( (0.098036, 0.117558, 0.137373, 0.156907, 0.176462, 0.196057, 0.215516, 0.235128, 0.254538, 0.274308, 0.299567, ) )\n",
    "MyAlg.append( (0.098022, 0.117738, 0.137349, 0.156851, 0.176599, 0.201423, 0.215479, 0.235902, 0.254861, 0.274727, 0.294148, ) )\n",
    "MyAlg.append( (0.097823, 0.117369, 0.137069, 0.156569, 0.176389, 0.195833, 0.215422, 0.235065, 0.254857, 0.274085, 0.293708, ) )\n",
    "MyAlg.append( (0.097887, 0.117689, 0.137194, 0.156770, 0.176225, 0.195787, 0.215547, 0.234978, 0.254734, 0.274141, 0.293729, ) )\n",
    "MyAlg.append( (0.097921, 0.117583, 0.137141, 0.156663, 0.177053, 0.195876, 0.215575, 0.235857, 0.254526, 0.272194, 0.294216, ) )\n",
    "MyAlg.append( (0.097995, 0.117574, 0.137263, 0.156970, 0.176388, 0.196039, 0.215444, 0.234880, 0.254692, 0.274199, 0.293773, ) )\n",
    "MyAlg.append( (0.097903, 0.117429, 0.137015, 0.156603, 0.176285, 0.196501, 0.215677, 0.235024, 0.254773, 0.274497, 0.293953, ) )\n",
    "MyAlg.append( (0.097929, 0.117480, 0.137221, 0.156839, 0.176252, 0.195841, 0.215503, 0.235024, 0.254790, 0.274104, 0.293648, ) )"
   ]
  },
  {
   "cell_type": "code",
   "execution_count": 63,
   "metadata": {},
   "outputs": [
    {
     "name": "stdout",
     "output_type": "stream",
     "text": [
      "[8.167818181818182e-05, -2.081818181818693e-06]\n",
      "[5.7587727272727273e-05, 2.727272727269625e-07]\n",
      "[0.00981449772727273, -0.0001540454545455327]\n"
     ]
    },
    {
     "data": {
      "image/png": "[encoded data removed]",
      "text/plain": [
       "<Figure size 432x288 with 1 Axes>"
      ]
     },
     "metadata": {
      "needs_background": "light"
     },
     "output_type": "display_data"
    }
   ],
   "source": [
    "def do_process(rows):\n",
    "    lines = list()\n",
    "    sum1 = [0, 0]\n",
    "    for row in rows:\n",
    "        line = numpy.polyfit(x, row, 1)\n",
    "        lines.append(line)\n",
    "        sum1[0] += line[0]\n",
    "        sum1[1] += line[1]\n",
    "    sum1[0] /= len(lines1)\n",
    "    sum1[1] /= len(lines1)\n",
    "    print(sum1)\n",
    "    return (sum1[0], sum1[1])\n",
    "\n",
    "c1 = do_process(Alg1)\n",
    "c2 = do_process(Alg2)\n",
    "c3 = do_process(MyAlg)\n",
    "\n",
    "\n",
    "\n",
    "plt.plot(x, Alg1[1], 'b.')\n",
    "plt.plot(x, [c1[0]*x[i]+c1[1] for i in range(len(x))])\n",
    "plt.show()"
   ]
  },
  {
   "cell_type": "code",
   "execution_count": null,
   "metadata": {},
   "outputs": [],
   "source": []
  },
  {
   "cell_type": "code",
   "execution_count": null,
   "metadata": {},
   "outputs": [],
   "source": []
  },
  {
   "cell_type": "code",
   "execution_count": null,
   "metadata": {},
   "outputs": [],
   "source": []
  },
  {
   "cell_type": "code",
   "execution_count": null,
   "metadata": {},
   "outputs": [],
   "source": []
  },
  {
   "cell_type": "code",
   "execution_count": null,
   "metadata": {},
   "outputs": [],
   "source": []
  },
  {
   "cell_type": "code",
   "execution_count": null,
   "metadata": {},
   "outputs": [],
   "source": []
  },
  {
   "cell_type": "code",
   "execution_count": null,
   "metadata": {},
   "outputs": [],
   "source": []
  },
  {
   "cell_type": "code",
   "execution_count": null,
   "metadata": {},
   "outputs": [],
   "source": []
  },
  {
   "cell_type": "code",
   "execution_count": null,
   "metadata": {},
   "outputs": [],
   "source": []
  },
  {
   "cell_type": "code",
   "execution_count": null,
   "metadata": {},
   "outputs": [],
   "source": []
  },
  {
   "cell_type": "code",
   "execution_count": null,
   "metadata": {},
   "outputs": [],
   "source": []
  },
  {
   "cell_type": "code",
   "execution_count": null,
   "metadata": {},
   "outputs": [],
   "source": []
  },
  {
   "cell_type": "code",
   "execution_count": null,
   "metadata": {},
   "outputs": [],
   "source": []
  },
  {
   "cell_type": "code",
   "execution_count": null,
   "metadata": {},
   "outputs": [],
   "source": []
  },
  {
   "cell_type": "code",
   "execution_count": null,
   "metadata": {},
   "outputs": [],
   "source": []
  },
  {
   "cell_type": "code",
   "execution_count": null,
   "metadata": {},
   "outputs": [],
   "source": []
  },
  {
   "cell_type": "code",
   "execution_count": null,
   "metadata": {},
   "outputs": [],
   "source": []
  },
  {
   "cell_type": "code",
   "execution_count": null,
   "metadata": {},
   "outputs": [],
   "source": []
  },
  {
   "cell_type": "code",
   "execution_count": null,
   "metadata": {},
   "outputs": [],
   "source": []
  },
  {
   "cell_type": "code",
   "execution_count": null,
   "metadata": {},
   "outputs": [],
   "source": []
  }
 ],
 "metadata": {
  "kernelspec": {
   "display_name": "Python 3",
   "language": "python",
   "name": "python3"
  },
  "language_info": {
   "codemirror_mode": {
    "name": "ipython",
    "version": 3
   },
   "file_extension": ".py",
   "mimetype": "text/x-python",
   "name": "python",
   "nbconvert_exporter": "python",
   "pygments_lexer": "ipython3",
   "version": "3.8.3"
  }
 },
 "nbformat": 4,
 "nbformat_minor": 4
}
